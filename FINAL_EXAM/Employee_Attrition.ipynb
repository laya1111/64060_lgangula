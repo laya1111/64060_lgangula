{
  "cells": [
    {
      "cell_type": "markdown",
      "id": "4e40784a",
      "metadata": {
        "id": "4e40784a"
      },
      "source": [
        "# Employee Attrition in an Organization"
      ]
    },
    {
      "cell_type": "markdown",
      "id": "897a1516",
      "metadata": {
        "id": "897a1516"
      },
      "source": [
        "# Importing all necessary libraries"
      ]
    },
    {
      "cell_type": "code",
      "execution_count": null,
      "id": "693d0fbc",
      "metadata": {
        "id": "693d0fbc"
      },
      "outputs": [],
      "source": [
        "import numpy as np\n",
        "import pandas as pd\n",
        "import seaborn as sns\n",
        "import matplotlib.pyplot as plt\n",
        "import warnings\n",
        "import plotly.express as px\n",
        "warnings.filterwarnings('ignore')\n",
        "import plotly.express as px\n",
        "import plotly.offline as pyo\n",
        "import plotly.graph_objs as go"
      ]
    },
    {
      "cell_type": "code",
      "execution_count": null,
      "id": "3ba176dd",
      "metadata": {
        "id": "3ba176dd",
        "outputId": "c14e32fc-5937-4e52-91ca-902256ca1c38"
      },
      "outputs": [
        {
          "data": {
            "text/html": [
              "<div>\n",
              "<style scoped>\n",
              "    .dataframe tbody tr th:only-of-type {\n",
              "        vertical-align: middle;\n",
              "    }\n",
              "\n",
              "    .dataframe tbody tr th {\n",
              "        vertical-align: top;\n",
              "    }\n",
              "\n",
              "    .dataframe thead th {\n",
              "        text-align: right;\n",
              "    }\n",
              "</style>\n",
              "<table border=\"1\" class=\"dataframe\">\n",
              "  <thead>\n",
              "    <tr style=\"text-align: right;\">\n",
              "      <th></th>\n",
              "      <th>Age</th>\n",
              "      <th>Attrition</th>\n",
              "      <th>BusinessTravel</th>\n",
              "      <th>DailyRate</th>\n",
              "      <th>Department</th>\n",
              "      <th>DistanceFromHome</th>\n",
              "      <th>Education</th>\n",
              "      <th>EducationField</th>\n",
              "      <th>EmployeeCount</th>\n",
              "      <th>EmployeeNumber</th>\n",
              "      <th>...</th>\n",
              "      <th>RelationshipSatisfaction</th>\n",
              "      <th>StandardHours</th>\n",
              "      <th>StockOptionLevel</th>\n",
              "      <th>TotalWorkingYears</th>\n",
              "      <th>TrainingTimesLastYear</th>\n",
              "      <th>WorkLifeBalance</th>\n",
              "      <th>YearsAtCompany</th>\n",
              "      <th>YearsInCurrentRole</th>\n",
              "      <th>YearsSinceLastPromotion</th>\n",
              "      <th>YearsWithCurrManager</th>\n",
              "    </tr>\n",
              "  </thead>\n",
              "  <tbody>\n",
              "    <tr>\n",
              "      <th>0</th>\n",
              "      <td>41</td>\n",
              "      <td>Yes</td>\n",
              "      <td>Travel_Rarely</td>\n",
              "      <td>1102</td>\n",
              "      <td>Sales</td>\n",
              "      <td>1</td>\n",
              "      <td>2</td>\n",
              "      <td>Life Sciences</td>\n",
              "      <td>1</td>\n",
              "      <td>1</td>\n",
              "      <td>...</td>\n",
              "      <td>1</td>\n",
              "      <td>80</td>\n",
              "      <td>0</td>\n",
              "      <td>8</td>\n",
              "      <td>0</td>\n",
              "      <td>1</td>\n",
              "      <td>6</td>\n",
              "      <td>4</td>\n",
              "      <td>0</td>\n",
              "      <td>5</td>\n",
              "    </tr>\n",
              "    <tr>\n",
              "      <th>1</th>\n",
              "      <td>49</td>\n",
              "      <td>No</td>\n",
              "      <td>Travel_Frequently</td>\n",
              "      <td>279</td>\n",
              "      <td>Research &amp; Development</td>\n",
              "      <td>8</td>\n",
              "      <td>1</td>\n",
              "      <td>Life Sciences</td>\n",
              "      <td>1</td>\n",
              "      <td>2</td>\n",
              "      <td>...</td>\n",
              "      <td>4</td>\n",
              "      <td>80</td>\n",
              "      <td>1</td>\n",
              "      <td>10</td>\n",
              "      <td>3</td>\n",
              "      <td>3</td>\n",
              "      <td>10</td>\n",
              "      <td>7</td>\n",
              "      <td>1</td>\n",
              "      <td>7</td>\n",
              "    </tr>\n",
              "    <tr>\n",
              "      <th>2</th>\n",
              "      <td>37</td>\n",
              "      <td>Yes</td>\n",
              "      <td>Travel_Rarely</td>\n",
              "      <td>1373</td>\n",
              "      <td>Research &amp; Development</td>\n",
              "      <td>2</td>\n",
              "      <td>2</td>\n",
              "      <td>Other</td>\n",
              "      <td>1</td>\n",
              "      <td>4</td>\n",
              "      <td>...</td>\n",
              "      <td>2</td>\n",
              "      <td>80</td>\n",
              "      <td>0</td>\n",
              "      <td>7</td>\n",
              "      <td>3</td>\n",
              "      <td>3</td>\n",
              "      <td>0</td>\n",
              "      <td>0</td>\n",
              "      <td>0</td>\n",
              "      <td>0</td>\n",
              "    </tr>\n",
              "    <tr>\n",
              "      <th>3</th>\n",
              "      <td>33</td>\n",
              "      <td>No</td>\n",
              "      <td>Travel_Frequently</td>\n",
              "      <td>1392</td>\n",
              "      <td>Research &amp; Development</td>\n",
              "      <td>3</td>\n",
              "      <td>4</td>\n",
              "      <td>Life Sciences</td>\n",
              "      <td>1</td>\n",
              "      <td>5</td>\n",
              "      <td>...</td>\n",
              "      <td>3</td>\n",
              "      <td>80</td>\n",
              "      <td>0</td>\n",
              "      <td>8</td>\n",
              "      <td>3</td>\n",
              "      <td>3</td>\n",
              "      <td>8</td>\n",
              "      <td>7</td>\n",
              "      <td>3</td>\n",
              "      <td>0</td>\n",
              "    </tr>\n",
              "    <tr>\n",
              "      <th>4</th>\n",
              "      <td>27</td>\n",
              "      <td>No</td>\n",
              "      <td>Travel_Rarely</td>\n",
              "      <td>591</td>\n",
              "      <td>Research &amp; Development</td>\n",
              "      <td>2</td>\n",
              "      <td>1</td>\n",
              "      <td>Medical</td>\n",
              "      <td>1</td>\n",
              "      <td>7</td>\n",
              "      <td>...</td>\n",
              "      <td>4</td>\n",
              "      <td>80</td>\n",
              "      <td>1</td>\n",
              "      <td>6</td>\n",
              "      <td>3</td>\n",
              "      <td>3</td>\n",
              "      <td>2</td>\n",
              "      <td>2</td>\n",
              "      <td>2</td>\n",
              "      <td>2</td>\n",
              "    </tr>\n",
              "  </tbody>\n",
              "</table>\n",
              "<p>5 rows × 35 columns</p>\n",
              "</div>"
            ],
            "text/plain": [
              "   Age Attrition     BusinessTravel  DailyRate              Department  \\\n",
              "0   41       Yes      Travel_Rarely       1102                   Sales   \n",
              "1   49        No  Travel_Frequently        279  Research & Development   \n",
              "2   37       Yes      Travel_Rarely       1373  Research & Development   \n",
              "3   33        No  Travel_Frequently       1392  Research & Development   \n",
              "4   27        No      Travel_Rarely        591  Research & Development   \n",
              "\n",
              "   DistanceFromHome  Education EducationField  EmployeeCount  EmployeeNumber  \\\n",
              "0                 1          2  Life Sciences              1               1   \n",
              "1                 8          1  Life Sciences              1               2   \n",
              "2                 2          2          Other              1               4   \n",
              "3                 3          4  Life Sciences              1               5   \n",
              "4                 2          1        Medical              1               7   \n",
              "\n",
              "   ...  RelationshipSatisfaction StandardHours  StockOptionLevel  \\\n",
              "0  ...                         1            80                 0   \n",
              "1  ...                         4            80                 1   \n",
              "2  ...                         2            80                 0   \n",
              "3  ...                         3            80                 0   \n",
              "4  ...                         4            80                 1   \n",
              "\n",
              "   TotalWorkingYears  TrainingTimesLastYear WorkLifeBalance  YearsAtCompany  \\\n",
              "0                  8                      0               1               6   \n",
              "1                 10                      3               3              10   \n",
              "2                  7                      3               3               0   \n",
              "3                  8                      3               3               8   \n",
              "4                  6                      3               3               2   \n",
              "\n",
              "  YearsInCurrentRole  YearsSinceLastPromotion  YearsWithCurrManager  \n",
              "0                  4                        0                     5  \n",
              "1                  7                        1                     7  \n",
              "2                  0                        0                     0  \n",
              "3                  7                        3                     0  \n",
              "4                  2                        2                     2  \n",
              "\n",
              "[5 rows x 35 columns]"
            ]
          },
          "execution_count": 2,
          "metadata": {},
          "output_type": "execute_result"
        }
      ],
      "source": [
        "df=pd.read_csv('WA_Fn-UseC_-HR-Employee-Attrition.csv')\n",
        "df.head()"
      ]
    },
    {
      "cell_type": "markdown",
      "id": "9e0a84cb",
      "metadata": {
        "id": "9e0a84cb"
      },
      "source": [
        "# Data Analysis"
      ]
    },
    {
      "cell_type": "markdown",
      "id": "5948839c",
      "metadata": {
        "id": "5948839c"
      },
      "source": [
        "Checking if data contains mising values:"
      ]
    },
    {
      "cell_type": "code",
      "execution_count": null,
      "id": "7d3321af",
      "metadata": {
        "id": "7d3321af",
        "outputId": "7a94fb6c-48f4-42d5-9e39-5242dd4113ee"
      },
      "outputs": [
        {
          "data": {
            "text/plain": [
              "Age                         0\n",
              "Attrition                   0\n",
              "BusinessTravel              0\n",
              "DailyRate                   0\n",
              "Department                  0\n",
              "DistanceFromHome            0\n",
              "Education                   0\n",
              "EducationField              0\n",
              "EmployeeCount               0\n",
              "EmployeeNumber              0\n",
              "EnvironmentSatisfaction     0\n",
              "Gender                      0\n",
              "HourlyRate                  0\n",
              "JobInvolvement              0\n",
              "JobLevel                    0\n",
              "JobRole                     0\n",
              "JobSatisfaction             0\n",
              "MaritalStatus               0\n",
              "MonthlyIncome               0\n",
              "MonthlyRate                 0\n",
              "NumCompaniesWorked          0\n",
              "Over18                      0\n",
              "OverTime                    0\n",
              "PercentSalaryHike           0\n",
              "PerformanceRating           0\n",
              "RelationshipSatisfaction    0\n",
              "StandardHours               0\n",
              "StockOptionLevel            0\n",
              "TotalWorkingYears           0\n",
              "TrainingTimesLastYear       0\n",
              "WorkLifeBalance             0\n",
              "YearsAtCompany              0\n",
              "YearsInCurrentRole          0\n",
              "YearsSinceLastPromotion     0\n",
              "YearsWithCurrManager        0\n",
              "dtype: int64"
            ]
          },
          "execution_count": 3,
          "metadata": {},
          "output_type": "execute_result"
        }
      ],
      "source": [
        "df.isnull().sum()"
      ]
    },
    {
      "cell_type": "markdown",
      "id": "deb129d9",
      "metadata": {
        "id": "deb129d9"
      },
      "source": [
        "# Observation:\n",
        "    Dataset is pretty clean and does not contain any null value. We can start with Analysis."
      ]
    },
    {
      "cell_type": "code",
      "execution_count": null,
      "id": "c316958e",
      "metadata": {
        "id": "c316958e",
        "outputId": "1916e654-b07c-4f3d-8f53-9fd9fbc3aa52"
      },
      "outputs": [
        {
          "data": {
            "text/plain": [
              "(1470, 35)"
            ]
          },
          "execution_count": 4,
          "metadata": {},
          "output_type": "execute_result"
        }
      ],
      "source": [
        "df.shape"
      ]
    },
    {
      "cell_type": "markdown",
      "id": "3fe2224c",
      "metadata": {
        "id": "3fe2224c"
      },
      "source": [
        "# Describe function tell the stastical properties of all the features"
      ]
    },
    {
      "cell_type": "code",
      "execution_count": null,
      "id": "a32276c9",
      "metadata": {
        "id": "a32276c9",
        "outputId": "b06698ba-70ce-4c7b-80de-6957d44a071a"
      },
      "outputs": [
        {
          "data": {
            "text/html": [
              "<div>\n",
              "<style scoped>\n",
              "    .dataframe tbody tr th:only-of-type {\n",
              "        vertical-align: middle;\n",
              "    }\n",
              "\n",
              "    .dataframe tbody tr th {\n",
              "        vertical-align: top;\n",
              "    }\n",
              "\n",
              "    .dataframe thead th {\n",
              "        text-align: right;\n",
              "    }\n",
              "</style>\n",
              "<table border=\"1\" class=\"dataframe\">\n",
              "  <thead>\n",
              "    <tr style=\"text-align: right;\">\n",
              "      <th></th>\n",
              "      <th>Age</th>\n",
              "      <th>DailyRate</th>\n",
              "      <th>DistanceFromHome</th>\n",
              "      <th>Education</th>\n",
              "      <th>EmployeeCount</th>\n",
              "      <th>EmployeeNumber</th>\n",
              "      <th>EnvironmentSatisfaction</th>\n",
              "      <th>HourlyRate</th>\n",
              "      <th>JobInvolvement</th>\n",
              "      <th>JobLevel</th>\n",
              "      <th>...</th>\n",
              "      <th>RelationshipSatisfaction</th>\n",
              "      <th>StandardHours</th>\n",
              "      <th>StockOptionLevel</th>\n",
              "      <th>TotalWorkingYears</th>\n",
              "      <th>TrainingTimesLastYear</th>\n",
              "      <th>WorkLifeBalance</th>\n",
              "      <th>YearsAtCompany</th>\n",
              "      <th>YearsInCurrentRole</th>\n",
              "      <th>YearsSinceLastPromotion</th>\n",
              "      <th>YearsWithCurrManager</th>\n",
              "    </tr>\n",
              "  </thead>\n",
              "  <tbody>\n",
              "    <tr>\n",
              "      <th>count</th>\n",
              "      <td>1470.000000</td>\n",
              "      <td>1470.000000</td>\n",
              "      <td>1470.000000</td>\n",
              "      <td>1470.000000</td>\n",
              "      <td>1470.0</td>\n",
              "      <td>1470.000000</td>\n",
              "      <td>1470.000000</td>\n",
              "      <td>1470.000000</td>\n",
              "      <td>1470.000000</td>\n",
              "      <td>1470.000000</td>\n",
              "      <td>...</td>\n",
              "      <td>1470.000000</td>\n",
              "      <td>1470.0</td>\n",
              "      <td>1470.000000</td>\n",
              "      <td>1470.000000</td>\n",
              "      <td>1470.000000</td>\n",
              "      <td>1470.000000</td>\n",
              "      <td>1470.000000</td>\n",
              "      <td>1470.000000</td>\n",
              "      <td>1470.000000</td>\n",
              "      <td>1470.000000</td>\n",
              "    </tr>\n",
              "    <tr>\n",
              "      <th>mean</th>\n",
              "      <td>36.923810</td>\n",
              "      <td>802.485714</td>\n",
              "      <td>9.192517</td>\n",
              "      <td>2.912925</td>\n",
              "      <td>1.0</td>\n",
              "      <td>1024.865306</td>\n",
              "      <td>2.721769</td>\n",
              "      <td>65.891156</td>\n",
              "      <td>2.729932</td>\n",
              "      <td>2.063946</td>\n",
              "      <td>...</td>\n",
              "      <td>2.712245</td>\n",
              "      <td>80.0</td>\n",
              "      <td>0.793878</td>\n",
              "      <td>11.279592</td>\n",
              "      <td>2.799320</td>\n",
              "      <td>2.761224</td>\n",
              "      <td>7.008163</td>\n",
              "      <td>4.229252</td>\n",
              "      <td>2.187755</td>\n",
              "      <td>4.123129</td>\n",
              "    </tr>\n",
              "    <tr>\n",
              "      <th>std</th>\n",
              "      <td>9.135373</td>\n",
              "      <td>403.509100</td>\n",
              "      <td>8.106864</td>\n",
              "      <td>1.024165</td>\n",
              "      <td>0.0</td>\n",
              "      <td>602.024335</td>\n",
              "      <td>1.093082</td>\n",
              "      <td>20.329428</td>\n",
              "      <td>0.711561</td>\n",
              "      <td>1.106940</td>\n",
              "      <td>...</td>\n",
              "      <td>1.081209</td>\n",
              "      <td>0.0</td>\n",
              "      <td>0.852077</td>\n",
              "      <td>7.780782</td>\n",
              "      <td>1.289271</td>\n",
              "      <td>0.706476</td>\n",
              "      <td>6.126525</td>\n",
              "      <td>3.623137</td>\n",
              "      <td>3.222430</td>\n",
              "      <td>3.568136</td>\n",
              "    </tr>\n",
              "    <tr>\n",
              "      <th>min</th>\n",
              "      <td>18.000000</td>\n",
              "      <td>102.000000</td>\n",
              "      <td>1.000000</td>\n",
              "      <td>1.000000</td>\n",
              "      <td>1.0</td>\n",
              "      <td>1.000000</td>\n",
              "      <td>1.000000</td>\n",
              "      <td>30.000000</td>\n",
              "      <td>1.000000</td>\n",
              "      <td>1.000000</td>\n",
              "      <td>...</td>\n",
              "      <td>1.000000</td>\n",
              "      <td>80.0</td>\n",
              "      <td>0.000000</td>\n",
              "      <td>0.000000</td>\n",
              "      <td>0.000000</td>\n",
              "      <td>1.000000</td>\n",
              "      <td>0.000000</td>\n",
              "      <td>0.000000</td>\n",
              "      <td>0.000000</td>\n",
              "      <td>0.000000</td>\n",
              "    </tr>\n",
              "    <tr>\n",
              "      <th>25%</th>\n",
              "      <td>30.000000</td>\n",
              "      <td>465.000000</td>\n",
              "      <td>2.000000</td>\n",
              "      <td>2.000000</td>\n",
              "      <td>1.0</td>\n",
              "      <td>491.250000</td>\n",
              "      <td>2.000000</td>\n",
              "      <td>48.000000</td>\n",
              "      <td>2.000000</td>\n",
              "      <td>1.000000</td>\n",
              "      <td>...</td>\n",
              "      <td>2.000000</td>\n",
              "      <td>80.0</td>\n",
              "      <td>0.000000</td>\n",
              "      <td>6.000000</td>\n",
              "      <td>2.000000</td>\n",
              "      <td>2.000000</td>\n",
              "      <td>3.000000</td>\n",
              "      <td>2.000000</td>\n",
              "      <td>0.000000</td>\n",
              "      <td>2.000000</td>\n",
              "    </tr>\n",
              "    <tr>\n",
              "      <th>50%</th>\n",
              "      <td>36.000000</td>\n",
              "      <td>802.000000</td>\n",
              "      <td>7.000000</td>\n",
              "      <td>3.000000</td>\n",
              "      <td>1.0</td>\n",
              "      <td>1020.500000</td>\n",
              "      <td>3.000000</td>\n",
              "      <td>66.000000</td>\n",
              "      <td>3.000000</td>\n",
              "      <td>2.000000</td>\n",
              "      <td>...</td>\n",
              "      <td>3.000000</td>\n",
              "      <td>80.0</td>\n",
              "      <td>1.000000</td>\n",
              "      <td>10.000000</td>\n",
              "      <td>3.000000</td>\n",
              "      <td>3.000000</td>\n",
              "      <td>5.000000</td>\n",
              "      <td>3.000000</td>\n",
              "      <td>1.000000</td>\n",
              "      <td>3.000000</td>\n",
              "    </tr>\n",
              "    <tr>\n",
              "      <th>75%</th>\n",
              "      <td>43.000000</td>\n",
              "      <td>1157.000000</td>\n",
              "      <td>14.000000</td>\n",
              "      <td>4.000000</td>\n",
              "      <td>1.0</td>\n",
              "      <td>1555.750000</td>\n",
              "      <td>4.000000</td>\n",
              "      <td>83.750000</td>\n",
              "      <td>3.000000</td>\n",
              "      <td>3.000000</td>\n",
              "      <td>...</td>\n",
              "      <td>4.000000</td>\n",
              "      <td>80.0</td>\n",
              "      <td>1.000000</td>\n",
              "      <td>15.000000</td>\n",
              "      <td>3.000000</td>\n",
              "      <td>3.000000</td>\n",
              "      <td>9.000000</td>\n",
              "      <td>7.000000</td>\n",
              "      <td>3.000000</td>\n",
              "      <td>7.000000</td>\n",
              "    </tr>\n",
              "    <tr>\n",
              "      <th>max</th>\n",
              "      <td>60.000000</td>\n",
              "      <td>1499.000000</td>\n",
              "      <td>29.000000</td>\n",
              "      <td>5.000000</td>\n",
              "      <td>1.0</td>\n",
              "      <td>2068.000000</td>\n",
              "      <td>4.000000</td>\n",
              "      <td>100.000000</td>\n",
              "      <td>4.000000</td>\n",
              "      <td>5.000000</td>\n",
              "      <td>...</td>\n",
              "      <td>4.000000</td>\n",
              "      <td>80.0</td>\n",
              "      <td>3.000000</td>\n",
              "      <td>40.000000</td>\n",
              "      <td>6.000000</td>\n",
              "      <td>4.000000</td>\n",
              "      <td>40.000000</td>\n",
              "      <td>18.000000</td>\n",
              "      <td>15.000000</td>\n",
              "      <td>17.000000</td>\n",
              "    </tr>\n",
              "  </tbody>\n",
              "</table>\n",
              "<p>8 rows × 26 columns</p>\n",
              "</div>"
            ],
            "text/plain": [
              "               Age    DailyRate  DistanceFromHome    Education  EmployeeCount  \\\n",
              "count  1470.000000  1470.000000       1470.000000  1470.000000         1470.0   \n",
              "mean     36.923810   802.485714          9.192517     2.912925            1.0   \n",
              "std       9.135373   403.509100          8.106864     1.024165            0.0   \n",
              "min      18.000000   102.000000          1.000000     1.000000            1.0   \n",
              "25%      30.000000   465.000000          2.000000     2.000000            1.0   \n",
              "50%      36.000000   802.000000          7.000000     3.000000            1.0   \n",
              "75%      43.000000  1157.000000         14.000000     4.000000            1.0   \n",
              "max      60.000000  1499.000000         29.000000     5.000000            1.0   \n",
              "\n",
              "       EmployeeNumber  EnvironmentSatisfaction   HourlyRate  JobInvolvement  \\\n",
              "count     1470.000000              1470.000000  1470.000000     1470.000000   \n",
              "mean      1024.865306                 2.721769    65.891156        2.729932   \n",
              "std        602.024335                 1.093082    20.329428        0.711561   \n",
              "min          1.000000                 1.000000    30.000000        1.000000   \n",
              "25%        491.250000                 2.000000    48.000000        2.000000   \n",
              "50%       1020.500000                 3.000000    66.000000        3.000000   \n",
              "75%       1555.750000                 4.000000    83.750000        3.000000   \n",
              "max       2068.000000                 4.000000   100.000000        4.000000   \n",
              "\n",
              "          JobLevel  ...  RelationshipSatisfaction  StandardHours  \\\n",
              "count  1470.000000  ...               1470.000000         1470.0   \n",
              "mean      2.063946  ...                  2.712245           80.0   \n",
              "std       1.106940  ...                  1.081209            0.0   \n",
              "min       1.000000  ...                  1.000000           80.0   \n",
              "25%       1.000000  ...                  2.000000           80.0   \n",
              "50%       2.000000  ...                  3.000000           80.0   \n",
              "75%       3.000000  ...                  4.000000           80.0   \n",
              "max       5.000000  ...                  4.000000           80.0   \n",
              "\n",
              "       StockOptionLevel  TotalWorkingYears  TrainingTimesLastYear  \\\n",
              "count       1470.000000        1470.000000            1470.000000   \n",
              "mean           0.793878          11.279592               2.799320   \n",
              "std            0.852077           7.780782               1.289271   \n",
              "min            0.000000           0.000000               0.000000   \n",
              "25%            0.000000           6.000000               2.000000   \n",
              "50%            1.000000          10.000000               3.000000   \n",
              "75%            1.000000          15.000000               3.000000   \n",
              "max            3.000000          40.000000               6.000000   \n",
              "\n",
              "       WorkLifeBalance  YearsAtCompany  YearsInCurrentRole  \\\n",
              "count      1470.000000     1470.000000         1470.000000   \n",
              "mean          2.761224        7.008163            4.229252   \n",
              "std           0.706476        6.126525            3.623137   \n",
              "min           1.000000        0.000000            0.000000   \n",
              "25%           2.000000        3.000000            2.000000   \n",
              "50%           3.000000        5.000000            3.000000   \n",
              "75%           3.000000        9.000000            7.000000   \n",
              "max           4.000000       40.000000           18.000000   \n",
              "\n",
              "       YearsSinceLastPromotion  YearsWithCurrManager  \n",
              "count              1470.000000           1470.000000  \n",
              "mean                  2.187755              4.123129  \n",
              "std                   3.222430              3.568136  \n",
              "min                   0.000000              0.000000  \n",
              "25%                   0.000000              2.000000  \n",
              "50%                   1.000000              3.000000  \n",
              "75%                   3.000000              7.000000  \n",
              "max                  15.000000             17.000000  \n",
              "\n",
              "[8 rows x 26 columns]"
            ]
          },
          "execution_count": 5,
          "metadata": {},
          "output_type": "execute_result"
        }
      ],
      "source": [
        "df.describe()"
      ]
    },
    {
      "cell_type": "markdown",
      "id": "0e3e4d80",
      "metadata": {
        "id": "0e3e4d80"
      },
      "source": [
        "# Observation:\n",
        "    Maximum age of the employee is 60 while the minimum age is 18.We can see that average age of an employee is 36.\n",
        "    Maximum rate per hour is 100$ while minimum rate per hour is 30$.Averrage hourly rate is 65$.\n",
        "    Maximum distance that an employee covers from home is 29km.\n",
        "    1 employee has spent 40 years in the organization.\n",
        "    \n",
        "    \n",
        "    "
      ]
    },
    {
      "cell_type": "markdown",
      "id": "aebd9599",
      "metadata": {
        "id": "aebd9599"
      },
      "source": [
        "# Univariate Analysis:"
      ]
    },
    {
      "cell_type": "code",
      "execution_count": null,
      "id": "1bf436d9",
      "metadata": {
        "id": "1bf436d9",
        "outputId": "f49ef8df-7376-451f-c4cc-785184b960e1"
      },
      "outputs": [
        {
          "data": {
            "image/png": "[encoded data removed]",
            "text/plain": [
              "<Figure size 432x288 with 1 Axes>"
            ]
          },
          "metadata": {
            "needs_background": "light"
          },
          "output_type": "display_data"
        }
      ],
      "source": [
        "ax = sns.countplot(x=\"Attrition\", data=df)\n"
      ]
    },
    {
      "cell_type": "markdown",
      "id": "92515009",
      "metadata": {
        "id": "92515009"
      },
      "source": [
        "# Observation:\n",
        "    From the above analysis we can see that there are 237 employees who left the organization:There might be alot of reasons, so we will analyze all of them one by one"
      ]
    },
    {
      "cell_type": "code",
      "execution_count": null,
      "id": "75ecae00",
      "metadata": {
        "id": "75ecae00",
        "outputId": "6ef4f9cc-7447-4fcb-9a51-9b207264c0b1"
      },
      "outputs": [
        {
          "data": {
            "image/png": "[encoded data removed]",
            "text/plain": [
              "<Figure size 432x288 with 1 Axes>"
            ]
          },
          "metadata": {
            "needs_background": "light"
          },
          "output_type": "display_data"
        }
      ],
      "source": [
        "sns.scatterplot(df['YearsInCurrentRole'],df['YearsInCurrentRole'],hue=df['Attrition'])\n",
        "plt.show()"
      ]
    },
    {
      "cell_type": "markdown",
      "id": "534ab773",
      "metadata": {
        "id": "534ab773"
      },
      "source": [
        "# Observation:\n",
        "    We can see that a person who has spend more than 5 years in current role has not  left the organization:"
      ]
    },
    {
      "cell_type": "code",
      "execution_count": null,
      "id": "31ee758a",
      "metadata": {
        "id": "31ee758a",
        "outputId": "d3b2a4a5-db2c-43b5-c483-ab7debef78a1"
      },
      "outputs": [
        {
          "data": {
            "image/png": "[encoded data removed]",
            "text/plain": [
              "<Figure size 432x288 with 1 Axes>"
            ]
          },
          "metadata": {
            "needs_background": "light"
          },
          "output_type": "display_data"
        }
      ],
      "source": [
        "sns.scatterplot(df['YearsAtCompany'],df['YearsAtCompany'],hue=df['Attrition'])\n",
        "plt.show()"
      ]
    },
    {
      "cell_type": "markdown",
      "id": "86abac6d",
      "metadata": {
        "id": "86abac6d"
      },
      "source": [
        "# Observation:\n",
        "\n",
        "We can not find any specific information from this observation:"
      ]
    },
    {
      "cell_type": "code",
      "execution_count": null,
      "id": "373941ac",
      "metadata": {
        "id": "373941ac",
        "outputId": "cd40cae3-03d7-4d49-cb25-7fd8d2f97cd6"
      },
      "outputs": [
        {
          "data": {
            "image/png": "[encoded data removed]",
            "text/plain": [
              "<Figure size 432x288 with 1 Axes>"
            ]
          },
          "metadata": {
            "needs_background": "light"
          },
          "output_type": "display_data"
        }
      ],
      "source": [
        "sns.scatterplot(df['YearsSinceLastPromotion'],df['YearsSinceLastPromotion'],hue=df['Attrition'])\n",
        "plt.show()"
      ]
    },
    {
      "cell_type": "markdown",
      "id": "4f891145",
      "metadata": {
        "id": "4f891145"
      },
      "source": [
        "# Observation:\n",
        "By looking at above graphs it seems that using single variable not much information about the attrition can be observed, one idea can be extracted from the YearAtCompany feature, it shows that attritious people are mostly those with less than five years or more than 25 years, between these years there is no atrition observed.\n",
        "\n",
        "From the above plots we can clearly see that very few people left the organization."
      ]
    },
    {
      "cell_type": "code",
      "execution_count": null,
      "id": "3c6073b5",
      "metadata": {
        "id": "3c6073b5",
        "outputId": "70250a87-453f-4909-ae83-ad4a9fcbccd2"
      },
      "outputs": [
        {
          "data": {
            "image/png": "[encoded data removed]",
            "text/plain": [
              "<Figure size 432x288 with 1 Axes>"
            ]
          },
          "metadata": {
            "needs_background": "light"
          },
          "output_type": "display_data"
        }
      ],
      "source": [
        "ax = sns.countplot(df[\"Department\"],hue=df['Attrition'])\n"
      ]
    },
    {
      "cell_type": "code",
      "execution_count": null,
      "id": "94170b3e",
      "metadata": {
        "id": "94170b3e"
      },
      "outputs": [],
      "source": []
    },
    {
      "cell_type": "markdown",
      "id": "bbc18fdf",
      "metadata": {
        "id": "bbc18fdf"
      },
      "source": [
        "# Observation:\n",
        "Research department employees has more chances to leave the organizations.After that Sales departmend has second most chances to leave the organization."
      ]
    },
    {
      "cell_type": "code",
      "execution_count": null,
      "id": "d709d0b5",
      "metadata": {
        "id": "d709d0b5",
        "outputId": "62d5c458-de0f-4cd3-f8df-e69a24eab7a9"
      },
      "outputs": [
        {
          "data": {
            "text/plain": [
              "Gender\n",
              "Male      150\n",
              "Female     87\n",
              "dtype: int64"
            ]
          },
          "execution_count": 11,
          "metadata": {},
          "output_type": "execute_result"
        }
      ],
      "source": [
        "(df[['Gender']][df['Attrition']=='Yes']).value_counts()"
      ]
    },
    {
      "cell_type": "code",
      "execution_count": null,
      "id": "2e455d58",
      "metadata": {
        "id": "2e455d58",
        "outputId": "b24c0109-93c4-4f9f-d860-2f42093bacd0"
      },
      "outputs": [
        {
          "data": {
            "image/png": "[encoded data removed]",
            "text/plain": [
              "<Figure size 432x288 with 1 Axes>"
            ]
          },
          "metadata": {
            "needs_background": "light"
          },
          "output_type": "display_data"
        }
      ],
      "source": [
        "ax = sns.countplot(df[\"Gender\"],hue=df['Attrition'])\n"
      ]
    },
    {
      "cell_type": "markdown",
      "id": "8ff4fc85",
      "metadata": {
        "id": "8ff4fc85"
      },
      "source": [
        "# Observation:\n",
        "    Male epmployees are leaving the organization more as compare to female which means females as having less chances to leave the organization"
      ]
    },
    {
      "cell_type": "code",
      "execution_count": null,
      "id": "89e17f7e",
      "metadata": {
        "id": "89e17f7e",
        "outputId": "c0c38148-5495-4d8e-9f83-212c2b1e733b"
      },
      "outputs": [
        {
          "data": {
            "text/plain": [
              "JobRole                  \n",
              "Laboratory Technician        62\n",
              "Sales Executive              57\n",
              "Research Scientist           47\n",
              "Sales Representative         33\n",
              "Human Resources              12\n",
              "Manufacturing Director       10\n",
              "Healthcare Representative     9\n",
              "Manager                       5\n",
              "Research Director             2\n",
              "dtype: int64"
            ]
          },
          "execution_count": 13,
          "metadata": {},
          "output_type": "execute_result"
        }
      ],
      "source": [
        "(df[['JobRole']][df['Attrition']=='Yes']).value_counts()"
      ]
    },
    {
      "cell_type": "code",
      "execution_count": null,
      "id": "9a299868",
      "metadata": {
        "id": "9a299868",
        "outputId": "93b6851b-8501-43db-a3dc-3f73e2520e90"
      },
      "outputs": [
        {
          "data": {
            "text/plain": [
              "<AxesSubplot:xlabel='JobRole', ylabel='count'>"
            ]
          },
          "execution_count": 14,
          "metadata": {},
          "output_type": "execute_result"
        },
        {
          "data": {
            "image/png": "[encoded data removed]",
            "text/plain": [
              "<Figure size 1800x720 with 1 Axes>"
            ]
          },
          "metadata": {
            "needs_background": "light"
          },
          "output_type": "display_data"
        }
      ],
      "source": [
        "plt.figure(figsize=(25,10))\n",
        "sns.countplot(df[\"JobRole\"],hue=df['Attrition'])\n"
      ]
    },
    {
      "cell_type": "markdown",
      "id": "979839ce",
      "metadata": {
        "id": "979839ce"
      },
      "source": [
        "# Observation:\n",
        "    Research Directors mostly does not leave the organization because there are only 2 Attrited employees.\n",
        "    Laboratory technician are having more chances to leave the organization as compare to other job roles.\n",
        "    Sales executive employees are having second most chances to leave the organization."
      ]
    },
    {
      "cell_type": "code",
      "execution_count": null,
      "id": "2081fc7b",
      "metadata": {
        "id": "2081fc7b",
        "outputId": "cd83a459-fe63-4f0f-d4d3-5ca49d2bbff4"
      },
      "outputs": [
        {
          "data": {
            "text/plain": [
              "Index(['Attrition', 'BusinessTravel', 'Department', 'EducationField', 'Gender',\n",
              "       'JobRole', 'MaritalStatus', 'Over18', 'OverTime'],\n",
              "      dtype='object')"
            ]
          },
          "execution_count": 15,
          "metadata": {},
          "output_type": "execute_result"
        }
      ],
      "source": [
        "#selecting object type features to encode\n",
        "a=df.select_dtypes(include='object')\n",
        "a.columns"
      ]
    },
    {
      "cell_type": "markdown",
      "id": "7c86dc38",
      "metadata": {
        "id": "7c86dc38"
      },
      "source": [
        "# Encoding object type features using label encoder"
      ]
    },
    {
      "cell_type": "code",
      "execution_count": null,
      "id": "7d006681",
      "metadata": {
        "id": "7d006681"
      },
      "outputs": [],
      "source": [
        "from sklearn.preprocessing import LabelEncoder\n",
        "labelencoder_X = LabelEncoder()\n",
        "obj=df[['Attrition', 'BusinessTravel', 'Department', 'EducationField', 'Gender',\n",
        "       'JobRole', 'MaritalStatus', 'Over18', 'OverTime']]\n",
        "for i in obj.columns:\n",
        "    df[i]=labelencoder_X.fit_transform(df[i])"
      ]
    },
    {
      "cell_type": "markdown",
      "id": "a9add470",
      "metadata": {
        "id": "a9add470"
      },
      "source": [
        "# defining inputs and outputs as X and y respectively"
      ]
    },
    {
      "cell_type": "code",
      "execution_count": null,
      "id": "c05d86fd",
      "metadata": {
        "id": "c05d86fd"
      },
      "outputs": [],
      "source": [
        "#defining inputs and outputs as X and y respectively\n",
        "X=df.drop(['Attrition'],axis=1)\n",
        "y=df['Attrition']"
      ]
    },
    {
      "cell_type": "code",
      "execution_count": null,
      "id": "66e89c19",
      "metadata": {
        "id": "66e89c19",
        "outputId": "7a77f5ec-34a6-47f4-8db6-6d107429fe7d"
      },
      "outputs": [
        {
          "data": {
            "text/plain": [
              "0    1233\n",
              "1     237\n",
              "Name: Attrition, dtype: int64"
            ]
          },
          "execution_count": 18,
          "metadata": {},
          "output_type": "execute_result"
        }
      ],
      "source": [
        "y.value_counts()"
      ]
    },
    {
      "cell_type": "markdown",
      "id": "282b6a3e",
      "metadata": {
        "id": "282b6a3e"
      },
      "source": [
        "# balancing data using upsampling and downsampling technique"
      ]
    },
    {
      "cell_type": "code",
      "execution_count": null,
      "id": "4b6495f8",
      "metadata": {
        "id": "4b6495f8"
      },
      "outputs": [],
      "source": [
        "# define resampling\n",
        "from imblearn.pipeline import Pipeline\n",
        "from imblearn.over_sampling import RandomOverSampler\n",
        "from imblearn.under_sampling import RandomUnderSampler\n",
        "over = RandomOverSampler(sampling_strategy=0.5)\n",
        "under = RandomUnderSampler(sampling_strategy=0.7)\n",
        "# define pipeline\n",
        "pipeline = Pipeline(steps=[('o', over), ('u', under)])\n",
        "# transform the dataset\n",
        "X, y = pipeline.fit_resample(X, y)"
      ]
    },
    {
      "cell_type": "code",
      "execution_count": null,
      "id": "7fdc74b0",
      "metadata": {
        "id": "7fdc74b0",
        "outputId": "3cf2dd53-4001-4ef0-d57d-6ebe7ba4e18d"
      },
      "outputs": [
        {
          "data": {
            "text/plain": [
              "0    880\n",
              "1    616\n",
              "Name: Attrition, dtype: int64"
            ]
          },
          "execution_count": 20,
          "metadata": {},
          "output_type": "execute_result"
        }
      ],
      "source": [
        "y.value_counts()"
      ]
    },
    {
      "cell_type": "markdown",
      "id": "fb61bf96",
      "metadata": {
        "id": "fb61bf96"
      },
      "source": [
        "# splitting dataset into training and testing respectively"
      ]
    },
    {
      "cell_type": "code",
      "execution_count": null,
      "id": "c7ac4074",
      "metadata": {
        "id": "c7ac4074"
      },
      "outputs": [],
      "source": [
        "from sklearn.model_selection import train_test_split\n",
        "from sklearn.metrics import recall_score\n",
        "from sklearn.metrics import accuracy_score\n",
        "from sklearn.metrics import precision_score\n",
        "X_train, X_test, y_train, y_test = train_test_split(X,y, test_size=0.2, random_state=42)"
      ]
    },
    {
      "cell_type": "markdown",
      "id": "9847f3d5",
      "metadata": {
        "id": "9847f3d5"
      },
      "source": [
        "# Modeling"
      ]
    },
    {
      "cell_type": "markdown",
      "id": "0a939662",
      "metadata": {
        "id": "0a939662"
      },
      "source": [
        "# Model 1: GaussianNB"
      ]
    },
    {
      "cell_type": "code",
      "execution_count": null,
      "id": "e51256a1",
      "metadata": {
        "id": "e51256a1",
        "outputId": "3092456c-5620-4c69-fa1b-d14dc6636082"
      },
      "outputs": [
        {
          "data": {
            "text/plain": [
              "<AxesSubplot:>"
            ]
          },
          "execution_count": 22,
          "metadata": {},
          "output_type": "execute_result"
        },
        {
          "data": {
            "image/png": "[encoded data removed]",
            "text/plain": [
              "<Figure size 720x720 with 2 Axes>"
            ]
          },
          "metadata": {
            "needs_background": "light"
          },
          "output_type": "display_data"
        }
      ],
      "source": [
        "from sklearn.naive_bayes import GaussianNB\n",
        "\n",
        "from sklearn.metrics import confusion_matrix\n",
        "dt =GaussianNB()\n",
        "dt.fit(X_train, y_train)\n",
        "y_predict_dt = dt.predict(X_test)\n",
        "# confusion_matrix\n",
        "plt.figure(figsize=(10,10))\n",
        "cm = confusion_matrix(y_test, y_predict_dt)\n",
        "sns.heatmap(cm, annot=True, fmt=\"d\")\n"
      ]
    },
    {
      "cell_type": "code",
      "execution_count": null,
      "id": "d171200a",
      "metadata": {
        "id": "d171200a",
        "outputId": "935de99f-3465-4a02-b109-6cecd9d2bc78"
      },
      "outputs": [
        {
          "name": "stdout",
          "output_type": "stream",
          "text": [
            "accuracy 0.7366666666666667\n",
            "precision 0.6917808219178082\n",
            "recall 0.7481481481481481\n"
          ]
        }
      ],
      "source": [
        "print('accuracy',accuracy_score((y_test), y_predict_dt))\n",
        "print('precision',precision_score(y_test, y_predict_dt))\n",
        "print('recall',recall_score(y_test, y_predict_dt))"
      ]
    },
    {
      "cell_type": "markdown",
      "id": "64186015",
      "metadata": {
        "id": "64186015"
      },
      "source": [
        "# Model 2:KNeighborsClassifier"
      ]
    },
    {
      "cell_type": "code",
      "execution_count": null,
      "id": "bfefc7f7",
      "metadata": {
        "id": "bfefc7f7",
        "outputId": "b64914e2-f47f-4f8f-c30f-8623b8ae9b88"
      },
      "outputs": [
        {
          "data": {
            "text/plain": [
              "<AxesSubplot:>"
            ]
          },
          "execution_count": 34,
          "metadata": {},
          "output_type": "execute_result"
        },
        {
          "data": {
            "image/png": "[encoded data removed]",
            "text/plain": [
              "<Figure size 720x720 with 2 Axes>"
            ]
          },
          "metadata": {
            "needs_background": "light"
          },
          "output_type": "display_data"
        }
      ],
      "source": [
        "from sklearn.neighbors import KNeighborsClassifier\n",
        "import warnings\n",
        "from sklearn.metrics import confusion_matrix\n",
        "knn = KNeighborsClassifier(algorithm='brute', metric='manhattan', n_neighbors=1)\n",
        "knn.fit(X_train, y_train)\n",
        "y_predict_knn = knn.predict(X_test)\n",
        "# confusion_matrix\n",
        "plt.figure(figsize=(10,10))\n",
        "cm = confusion_matrix(y_test, y_predict_knn)\n",
        "sns.heatmap(cm, annot=True, fmt=\"d\")"
      ]
    },
    {
      "cell_type": "code",
      "execution_count": null,
      "id": "14cfd8bc",
      "metadata": {
        "id": "14cfd8bc",
        "outputId": "abd33a5a-9eea-4745-e39a-01d8e689b1f7"
      },
      "outputs": [
        {
          "name": "stdout",
          "output_type": "stream",
          "text": [
            "accuracy 0.86\n",
            "precision 0.7852760736196319\n",
            "recall 0.9481481481481482\n"
          ]
        }
      ],
      "source": [
        "print('accuracy',accuracy_score((y_test), y_predict_knn))\n",
        "print('precision',precision_score(y_test, y_predict_knn))\n",
        "print('recall',recall_score(y_test, y_predict_knn))"
      ]
    },
    {
      "cell_type": "markdown",
      "id": "27e9f78e",
      "metadata": {
        "id": "27e9f78e"
      },
      "source": [
        "# Model 3:SVC"
      ]
    },
    {
      "cell_type": "code",
      "execution_count": null,
      "id": "28e2a244",
      "metadata": {
        "id": "28e2a244",
        "outputId": "e3be5ed4-a0cd-497b-d05a-9f13a9ec6f6f"
      },
      "outputs": [
        {
          "data": {
            "text/plain": [
              "<AxesSubplot:>"
            ]
          },
          "execution_count": 37,
          "metadata": {},
          "output_type": "execute_result"
        },
        {
          "data": {
            "image/png": "[encoded data removed]",
            "text/plain": [
              "<Figure size 720x720 with 2 Axes>"
            ]
          },
          "metadata": {
            "needs_background": "light"
          },
          "output_type": "display_data"
        }
      ],
      "source": [
        "from sklearn.svm import SVC\n",
        "rf =SVC() \n",
        "rf.fit(X_train, y_train)\n",
        "y_predict_rf = rf.predict(X_test)\n",
        "# confusion_matrix\n",
        "plt.figure(figsize=(10,10))\n",
        "cm = confusion_matrix(y_test, y_predict_rf)\n",
        "sns.heatmap(cm, annot=True, fmt=\"d\")"
      ]
    },
    {
      "cell_type": "code",
      "execution_count": null,
      "id": "6573b759",
      "metadata": {
        "id": "6573b759",
        "outputId": "161d2a53-fdf3-4c33-87af-1aee2ee7b10c"
      },
      "outputs": [
        {
          "name": "stdout",
          "output_type": "stream",
          "text": [
            "accuracy 0.55\n",
            "precision 0.0\n",
            "recall 0.0\n"
          ]
        }
      ],
      "source": [
        "print('accuracy',accuracy_score((y_test), y_predict_rf))\n",
        "print('precision',precision_score(y_test, y_predict_rf))\n",
        "print('recall',recall_score(y_test, y_predict_rf))"
      ]
    },
    {
      "cell_type": "code",
      "execution_count": null,
      "id": "7811f51f",
      "metadata": {
        "id": "7811f51f"
      },
      "outputs": [],
      "source": []
    }
  ],
  "metadata": {
    "kernelspec": {
      "display_name": "Python 3 (ipykernel)",
      "language": "python",
      "name": "python3"
    },
    "language_info": {
      "codemirror_mode": {
        "name": "ipython",
        "version": 3
      },
      "file_extension": ".py",
      "mimetype": "text/x-python",
      "name": "python",
      "nbconvert_exporter": "python",
      "pygments_lexer": "ipython3",
      "version": "3.9.13"
    },
    "colab": {
      "provenance": []
    }
  },
  "nbformat": 4,
  "nbformat_minor": 5
}